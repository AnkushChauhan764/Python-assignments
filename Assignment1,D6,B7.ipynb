{
  "nbformat": 4,
  "nbformat_minor": 0,
  "metadata": {
    "colab": {
      "name": "Assignment1,D6,B7.ipynb",
      "provenance": []
    },
    "kernelspec": {
      "name": "python3",
      "display_name": "Python 3"
    }
  },
  "cells": [
    {
      "cell_type": "code",
      "metadata": {
        "id": "j8Oi8xtnWl5R",
        "colab_type": "code",
        "colab": {
          "base_uri": "https://localhost:8080/",
          "height": 108
        },
        "outputId": "3e203e63-1290-4f68-dee3-990890724a9a"
      },
      "source": [
        "class BankAccount:\n",
        "  def owner_name(self,ownername):\n",
        "    self.ownername = self.ownername\n",
        "\n",
        "  def __init__(self):\n",
        "     self.balance = 0\n",
        "\n",
        "  def deposite(self,amount):\n",
        "    self.balance = self.balance + amount\n",
        "\n",
        "  def withdraw(self,amount):\n",
        "    if self.balance >= amount:\n",
        "      self.balance -= amount  \n",
        "    else:\n",
        "      print(\"Insufficient amount\")\n",
        "\n",
        "  def print_balance(self):\n",
        "    return self.balance  \n",
        "\n",
        "  def ownername(self,ownername):\n",
        "    self.ownername = self.ownername     \n",
        "\n",
        "account = BankAccount()\n",
        "account.ownername('ankush')\n",
        "account.deposite(1000)\n",
        "account.deposite(2000)\n",
        "account.deposite(3000)\n",
        "\n",
        "print(account.print_balance())  \n",
        "\n",
        "account.withdraw(3500)\n",
        "print(account.print_balance())\n",
        "\n",
        "account.withdraw(2500)\n",
        "print(account.print_balance())\n",
        "\n",
        "account.withdraw(1000)\n",
        "print(account.print_balance())\n"
      ],
      "execution_count": 24,
      "outputs": [
        {
          "output_type": "stream",
          "text": [
            "6000\n",
            "2500\n",
            "0\n",
            "Insufficient amount\n",
            "0\n"
          ],
          "name": "stdout"
        }
      ]
    }
  ]
}