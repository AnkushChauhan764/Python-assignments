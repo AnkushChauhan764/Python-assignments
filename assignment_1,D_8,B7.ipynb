{
  "nbformat": 4,
  "nbformat_minor": 0,
  "metadata": {
    "colab": {
      "name": "assignment_1,D_8,B7.ipynb",
      "provenance": [],
      "collapsed_sections": []
    },
    "kernelspec": {
      "name": "python3",
      "display_name": "Python 3"
    }
  },
  "cells": [
    {
      "cell_type": "code",
      "metadata": {
        "id": "H7nYjHWBnzap",
        "colab_type": "code",
        "colab": {
          "base_uri": "https://localhost:8080/",
          "height": 135
        },
        "outputId": "e6a10f02-ac31-485a-b15e-54b33661c772"
      },
      "source": [
        "def hello_decorator(func):\n",
        "  def inner1(*args, **kwargs):\n",
        "     print(\"before Execution\") \n",
        "     returned_value = func(*args, **kwargs) \n",
        "     print(\"after Execution\") \n",
        "     return returned_value \n",
        "  return inner1 \n",
        "\n",
        "@hello_decorator\n",
        "def getPrime(n : int) -> [int]:\n",
        "    prime = [True for i in range(n + 1)]\n",
        "    fac = 2\n",
        "    while fac * fac <= n + 1:\n",
        "        if prime[fac]:\n",
        "            for i in range(fac*fac, n + 1, fac):\n",
        "                prime[i] = False\n",
        "        fac += 1\n",
        "    return prime      \n",
        " "
      ],
      "execution_count": 45,
      "outputs": [
        {
          "output_type": "error",
          "ename": "SyntaxError",
          "evalue": "ignored",
          "traceback": [
            "\u001b[0;36m  File \u001b[0;32m\"<ipython-input-45-212cf5bec0b0>\"\u001b[0;36m, line \u001b[0;32m19\u001b[0m\n\u001b[0;31m    getPrime(2:10)\u001b[0m\n\u001b[0m              ^\u001b[0m\n\u001b[0;31mSyntaxError\u001b[0m\u001b[0;31m:\u001b[0m invalid syntax\n"
          ]
        }
      ]
    }
  ]
}