{
  "nbformat": 4,
  "nbformat_minor": 0,
  "metadata": {
    "colab": {
      "name": "assignment_2,D_6,B7.ipynb",
      "provenance": [],
      "collapsed_sections": []
    },
    "kernelspec": {
      "name": "python3",
      "display_name": "Python 3"
    }
  },
  "cells": [
    {
      "cell_type": "code",
      "metadata": {
        "id": "H7nYjHWBnzap",
        "colab_type": "code",
        "colab": {}
      },
      "source": [
        "import math\n",
        "\n",
        "class cone():\n",
        "  def __init__(self,radius,height):\n",
        "    self.radius = radius\n",
        "    self.height = height\n",
        "  \n",
        "  def volume(self):\n",
        "    return self.radius**3*3.14*(height/3)\n",
        "  \n",
        "  def surface_area_base(self):\n",
        "    return self.radius**2*3.14\n",
        "  \n",
        "  def surface_area_side(self):\n",
        "    return self.radius*3.14(radius+(radius**2+height**2)**1/2)   \n",
        "    "
      ],
      "execution_count": null,
      "outputs": []
    }
  ]
}