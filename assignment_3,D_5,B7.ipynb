{
  "nbformat": 4,
  "nbformat_minor": 0,
  "metadata": {
    "colab": {
      "name": "assignment_3,D_5,B7.ipynb",
      "provenance": [],
      "collapsed_sections": []
    },
    "kernelspec": {
      "name": "python3",
      "display_name": "Python 3"
    }
  },
  "cells": [
    {
      "cell_type": "code",
      "metadata": {
        "id": "H7nYjHWBnzap",
        "colab_type": "code",
        "colab": {}
      },
      "source": [
        "lst = ['python is awesome','but','hard sometimes']\n",
        "def toCapitalizeword(lst):\n",
        "  return str.title()\n",
        "toCapitalizewordlambdaversion = lambda lst: lst.title() \n",
        "print(toCapitalizewordlambdaversion(lst))\n",
        "lst_new = map(lambda lst: lst.title,lst)"
      ],
      "execution_count": null,
      "outputs": []
    }
  ]
}