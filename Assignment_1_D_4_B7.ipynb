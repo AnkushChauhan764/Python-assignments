{
  "nbformat": 4,
  "nbformat_minor": 0,
  "metadata": {
    "colab": {
      "name": "Assignment:1 D:3 B7.ipynb",
      "provenance": [],
      "authorship_tag": "ABX9TyM01cvaD4j+h0d5iGJmszUL",
      "include_colab_link": true
    },
    "kernelspec": {
      "name": "python3",
      "display_name": "Python 3"
    }
  },
  "cells": [
    {
      "cell_type": "markdown",
      "metadata": {
        "id": "view-in-github",
        "colab_type": "text"
      },
      "source": [
        "<a href=\"https://colab.research.google.com/github/AnkushChauhan764/Python-assignments/blob/master/Assignment_1_D_4_B7.ipynb\" target=\"_parent\"><img src=\"https://colab.research.google.com/assets/colab-badge.svg\" alt=\"Open In Colab\"/></a>"
      ]
    },
    {
      "cell_type": "markdown",
      "metadata": {
        "id": "UpRS8qDBg-i3",
        "colab_type": "text"
      },
      "source": [
        "# Armstrong number using while loop"
      ]
    },
    {
      "cell_type": "code",
      "metadata": {
        "id": "kIt6DDgpT_4k",
        "colab_type": "code",
        "colab": {
          "base_uri": "https://localhost:8080/",
          "height": 72
        },
        "outputId": "053b1363-4539-4443-a418-dc2e1c28e9f2"
      },
      "source": [
        "first_no = int(input(\"Enter the first number: \"))\n",
        "last_no = int(input('Enter the last number: '))\n",
        "for num in range(first_no,last_no):\n",
        "  #order of number\n",
        "  order = len(str(num))\n",
        "  #innitialize sum\n",
        "  sum = 0\n",
        "  temp = num\n",
        "  while temp>0:\n",
        "    digit = temp % 10\n",
        "    sum += digit**order\n",
        "    temp//=10\n",
        "  if num == sum:\n",
        "    print(num)  \n",
        "    break"
      ],
      "execution_count": 40,
      "outputs": [
        {
          "output_type": "stream",
          "text": [
            "Enter the first number: 1042000\n",
            "Enter the last number: 702648265\n",
            "1741725\n"
          ],
          "name": "stdout"
        }
      ]
    }
  ]
}