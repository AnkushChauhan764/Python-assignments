{
  "nbformat": 4,
  "nbformat_minor": 0,
  "metadata": {
    "colab": {
      "name": "Assignment:1D:3B7.ipynb",
      "provenance": []
    },
    "kernelspec": {
      "name": "python3",
      "display_name": "Python 3"
    }
  },
  "cells": [
    {
      "cell_type": "code",
      "metadata": {
        "id": "1Fq8qFU8mUKK",
        "colab_type": "code",
        "colab": {}
      },
      "source": [
        ""
      ],
      "execution_count": null,
      "outputs": []
    },
    {
      "cell_type": "markdown",
      "metadata": {
        "id": "23CI6hdEmVVm",
        "colab_type": "text"
      },
      "source": [
        "# Conditional statements"
      ]
    },
    {
      "cell_type": "code",
      "metadata": {
        "id": "EKmUnXLdmUGm",
        "colab_type": "code",
        "colab": {}
      },
      "source": [
        ""
      ],
      "execution_count": null,
      "outputs": []
    },
    {
      "cell_type": "code",
      "metadata": {
        "id": "VzrSMqbCmP5F",
        "colab_type": "code",
        "colab": {}
      },
      "source": [
        "Altitude = input('Altitude: ')\n",
        "\n",
        "if int(Altitude) <= 1000:\n",
        "  print('Safe to land')\n",
        "\n",
        "elif 1000< int(Altitude) <=5000:\n",
        "  print('Bring down to 1000') \n",
        "  \n",
        "else:\n",
        "  print('Turn Around')"
      ],
      "execution_count": null,
      "outputs": []
    }
  ]
}