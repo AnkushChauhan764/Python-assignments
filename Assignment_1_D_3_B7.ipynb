{
  "nbformat": 4,
  "nbformat_minor": 0,
  "metadata": {
    "colab": {
      "name": "Assignment:1 D:3 B7.ipynb",
      "provenance": [],
      "authorship_tag": "ABX9TyM+7KUjYYRaWZpMqjBrY8jI",
      "include_colab_link": true
    },
    "kernelspec": {
      "name": "python3",
      "display_name": "Python 3"
    }
  },
  "cells": [
    {
      "cell_type": "markdown",
      "metadata": {
        "id": "view-in-github",
        "colab_type": "text"
      },
      "source": [
        "<a href=\"https://colab.research.google.com/github/AnkushChauhan764/Python-assignments/blob/master/Assignment_1_D_3_B7.ipynb\" target=\"_parent\"><img src=\"https://colab.research.google.com/assets/colab-badge.svg\" alt=\"Open In Colab\"/></a>"
      ]
    },
    {
      "cell_type": "markdown",
      "metadata": {
        "id": "evaduKIyxpko",
        "colab_type": "text"
      },
      "source": [
        "# Conditional Statements"
      ]
    },
    {
      "cell_type": "code",
      "metadata": {
        "id": "kIt6DDgpT_4k",
        "colab_type": "code",
        "colab": {
          "base_uri": "https://localhost:8080/",
          "height": 54
        },
        "outputId": "c6994116-c3f9-459f-d2a3-8e2829cdec84"
      },
      "source": [
        "Altitude = input('Altitude: ')\n",
        "\n",
        "if int(Altitude) <= 1000:\n",
        "  print('Safe to land')\n",
        "\n",
        "elif 1000< int(Altitude) <=5000:\n",
        "  print('Bring down to 1000') \n",
        "  \n",
        "else:\n",
        "  print('Turn Around')   "
      ],
      "execution_count": 36,
      "outputs": [
        {
          "output_type": "stream",
          "text": [
            "Altitude: 980\n",
            "Safe to land\n"
          ],
          "name": "stdout"
        }
      ]
    }
  ]
}